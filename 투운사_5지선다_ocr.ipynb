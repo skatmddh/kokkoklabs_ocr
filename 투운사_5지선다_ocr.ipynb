{
  "nbformat": 4,
  "nbformat_minor": 0,
  "metadata": {
    "colab": {
      "provenance": [],
      "collapsed_sections": [],
      "authorship_tag": "ABX9TyNxh0cPli9IBr2dj8uM+F94",
      "include_colab_link": true
    },
    "kernelspec": {
      "name": "python3",
      "display_name": "Python 3"
    },
    "language_info": {
      "name": "python"
    }
  },
  "cells": [
    {
      "cell_type": "markdown",
      "metadata": {
        "id": "view-in-github",
        "colab_type": "text"
      },
      "source": [
        "<a href=\"https://colab.research.google.com/github/skatmddh/kokkoklabs_ocr/blob/main/%ED%88%AC%EC%9A%B4%EC%82%AC_5%EC%A7%80%EC%84%A0%EB%8B%A4_ocr.ipynb\" target=\"_parent\"><img src=\"https://colab.research.google.com/assets/colab-badge.svg\" alt=\"Open In Colab\"/></a>"
      ]
    },
    {
      "cell_type": "code",
      "source": [
        "from google.colab import drive\n",
        "drive.mount('/content/drive')"
      ],
      "metadata": {
        "id": "asL3jCo97aTh"
      },
      "execution_count": null,
      "outputs": []
    },
    {
      "cell_type": "code",
      "execution_count": null,
      "metadata": {
        "id": "UiZGhZzx69j0"
      },
      "outputs": [],
      "source": [
        "import pandas as pd\n",
        "txt_list = []\n",
        "file = open('/content/drive/MyDrive/ocr_cherry/투운사_5지선다_txt/5지선다_OCR_1.txt', 'r')\n",
        "\n",
        "for line in file :\n",
        "  line = line.strip()\n",
        "  txt_list.append(line)\n",
        "file.close()\n",
        "\n",
        "# for i in range(len(txt_list)):\n",
        "#   if txt_list[i] == '':\n",
        "#     txt_list[i] += ' '"
      ]
    },
    {
      "cell_type": "code",
      "source": [
        "NUM = 100"
      ],
      "metadata": {
        "id": "idfzlL1b7-TR"
      },
      "execution_count": null,
      "outputs": []
    },
    {
      "cell_type": "code",
      "source": [
        "num_list = ['01', '02', '03', '04', '05', '06', '07', '08', '09']\n",
        "for i in range(10, NUM+2):\n",
        "  num_list.append(str(i))\n",
        "print(num_list)"
      ],
      "metadata": {
        "id": "wjDAySm98NhQ"
      },
      "execution_count": null,
      "outputs": []
    },
    {
      "cell_type": "code",
      "source": [
        "number_index = []\n",
        "num_index = 0\n",
        "for i in range(len(txt_list)):\n",
        "  if txt_list[i].startswith(num_list[num_index]):\n",
        "    number_index.append(i)\n",
        "    # print(num_index)\n",
        "    num_index += 1\n",
        "number_index.append(len(txt_list))\n",
        "print(len(number_index), number_index)"
      ],
      "metadata": {
        "id": "pToi45Yi8Rtn"
      },
      "execution_count": null,
      "outputs": []
    },
    {
      "cell_type": "code",
      "source": [
        "for i in range(len(number_index)-1):\n",
        "  print(i+1, txt_list[number_index[i]])"
      ],
      "metadata": {
        "id": "nTtA8EGgBi8Z"
      },
      "execution_count": null,
      "outputs": []
    },
    {
      "cell_type": "code",
      "source": [
        "for i in range(20):\n",
        "  print(i, txt_list[i])\n",
        "# print(txt_list[2], type(txt_list[2]))"
      ],
      "metadata": {
        "id": "fNOH6evY-i5G"
      },
      "execution_count": null,
      "outputs": []
    },
    {
      "cell_type": "code",
      "source": [
        "blank = []\n",
        "for i in range(len(number_index)-1):\n",
        "  blank_index = number_index[i]\n",
        "  for j in range(number_index[i],number_index[i+1]):\n",
        "    if txt_list[j] == \"\":\n",
        "      # print(j, blank_index)\n",
        "      blank.append(j)\n",
        "      break\n",
        "\n",
        "print(len(blank), blank)"
      ],
      "metadata": {
        "id": "NHSvTi7O8Yjm"
      },
      "execution_count": null,
      "outputs": []
    },
    {
      "cell_type": "code",
      "source": [
        "for i in range(len(blank)):\n",
        "  print(txt_list[number_index[i]])\n",
        "  print(txt_list[blank[i]])\n",
        "  print(txt_list[blank[i]+1])\n",
        "  print(\"\\n\")"
      ],
      "metadata": {
        "id": "QityVMMwCXbJ"
      },
      "execution_count": null,
      "outputs": []
    },
    {
      "cell_type": "code",
      "source": [
        "first_index = []\n",
        "second_index = []\n",
        "third_index = []\n",
        "fourth_index = []\n",
        "for i in range(len(blank)):\n",
        "  first_index.append(blank[i]+1)\n",
        "  second_index.append(blank[i]+2)\n",
        "  third_index.append(blank[i]+3)\n",
        "  fourth_index.append(blank[i]+4)\n",
        "print(len(first_index), first_index)\n",
        "print(len(second_index), second_index)\n",
        "print(len(third_index), third_index)\n",
        "print(len(fourth_index), fourth_index)"
      ],
      "metadata": {
        "id": "mF6F_93v8kVi"
      },
      "execution_count": null,
      "outputs": []
    },
    {
      "cell_type": "code",
      "source": [
        "for i in range(len(blank)):\n",
        "  print(txt_list[number_index[i]])\n",
        "  print(txt_list[first_index[i]])\n",
        "  print(txt_list[second_index[i]])\n",
        "  print(txt_list[third_index[i]])\n",
        "  print(txt_list[fourth_index[i]])\n",
        "  print(txt_list[blank[i]])"
      ],
      "metadata": {
        "id": "rd_-4ELFAuJE"
      },
      "execution_count": null,
      "outputs": []
    },
    {
      "cell_type": "code",
      "source": [
        "for i in range(len(number_index)-2):\n",
        "  txt_list[number_index[i]] = txt_list[number_index[i]][3:]\n",
        "  # print(txt_list[number_index[i]])\n",
        "  # print(i+1, txt_list[number_index[i]][3:])\n",
        "txt_list[number_index[99]] = txt_list[number_index[99]][4:]"
      ],
      "metadata": {
        "id": "YnXIiYjFGHs3"
      },
      "execution_count": null,
      "outputs": []
    },
    {
      "cell_type": "code",
      "source": [
        "for i in range(20):\n",
        "  print(txt_list[i])"
      ],
      "metadata": {
        "id": "3g0uSTusIRR_"
      },
      "execution_count": null,
      "outputs": []
    },
    {
      "cell_type": "code",
      "source": [
        "question = []\n",
        "for i in range(len(number_index)-1):\n",
        "  # for j in range(number_index[i], blank[i]):\n",
        "  #   print(txt_list[j])\n",
        "  question.append(txt_list[number_index[i]:blank[i]])\n",
        "print(len(question))"
      ],
      "metadata": {
        "id": "1a9rLHTlG6bG"
      },
      "execution_count": null,
      "outputs": []
    },
    {
      "cell_type": "code",
      "source": [
        "for i in range(len(question)):\n",
        "  question[i] = \"\\n\".join(question[i])"
      ],
      "metadata": {
        "id": "rT_bm08ZIizy"
      },
      "execution_count": null,
      "outputs": []
    },
    {
      "cell_type": "code",
      "source": [
        "first = []\n",
        "second = []\n",
        "third = []\n",
        "fourth = []\n",
        "\n",
        "for i in range(len(blank)):\n",
        "  first.append(txt_list[first_index[i]])\n",
        "  second.append(txt_list[second_index[i]])\n",
        "  third.append(txt_list[third_index[i]])\n",
        "  fourth.append(txt_list[fourth_index[i]])"
      ],
      "metadata": {
        "id": "00us8Xs5Iod-"
      },
      "execution_count": null,
      "outputs": []
    },
    {
      "cell_type": "code",
      "source": [
        "print(len(first), len(second), len(third), len(fourth))\n",
        "for i in range(5):\n",
        "  print(first[i])\n",
        "  print(second[i])\n",
        "  print(third[i])\n",
        "  print(fourth[i])\n",
        "  print(\"\\n\")"
      ],
      "metadata": {
        "id": "exdUeT_oJGFQ"
      },
      "execution_count": null,
      "outputs": []
    },
    {
      "cell_type": "code",
      "source": [
        "number = []\n",
        "for i in range(1, len(question)+1):\n",
        "  number.append(i)\n",
        "print(len(number), number)"
      ],
      "metadata": {
        "id": "99n_-ATzKj1s"
      },
      "execution_count": null,
      "outputs": []
    },
    {
      "cell_type": "code",
      "source": [
        "print(len(number), len(question), len(first), len(second), len(third), len(fourth))"
      ],
      "metadata": {
        "id": "85QQg628KGBi"
      },
      "execution_count": null,
      "outputs": []
    },
    {
      "cell_type": "code",
      "source": [
        "# df = pd.DataFrame()\n",
        "data = ({'번호': number, '문제': question, '선지1' : first, '선지2' : second, '선지3' : third, '선지4' : fourth})\n",
        "df = pd.DataFrame(data)\n",
        "df.to_excel('투운사_5지선다_1.xlsx', index=False)"
      ],
      "metadata": {
        "id": "tdMtVvKDKRt9"
      },
      "execution_count": null,
      "outputs": []
    }
  ]
}