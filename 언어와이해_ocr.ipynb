{
  "nbformat": 4,
  "nbformat_minor": 0,
  "metadata": {
    "colab": {
      "provenance": [],
      "collapsed_sections": [],
      "include_colab_link": true
    },
    "kernelspec": {
      "name": "python3",
      "display_name": "Python 3"
    },
    "language_info": {
      "name": "python"
    }
  },
  "cells": [
    {
      "cell_type": "markdown",
      "metadata": {
        "id": "view-in-github",
        "colab_type": "text"
      },
      "source": [
        "<a href=\"https://colab.research.google.com/github/skatmddh/kokkoklabs_ocr/blob/main/%EC%96%B8%EC%96%B4%EC%99%80%EC%9D%B4%ED%95%B4_ocr.ipynb\" target=\"_parent\"><img src=\"https://colab.research.google.com/assets/colab-badge.svg\" alt=\"Open In Colab\"/></a>"
      ]
    },
    {
      "cell_type": "code",
      "execution_count": null,
      "metadata": {
        "id": "kLzC4ztY_Hjl"
      },
      "outputs": [],
      "source": [
        "from google.colab import drive\n",
        "drive.mount('/content/drive')"
      ]
    },
    {
      "cell_type": "code",
      "source": [
        "import pandas as pd\n",
        "txt_list = []\n",
        "file = open('/content/drive/MyDrive/db ocr/LEET 언어와이해/언어와이해 txt clean/LEET 2022 언어와이해_OCR.txt', 'r')\n",
        "\n",
        "for line in file :\n",
        "  line = line.strip()\n",
        "  txt_list.append(line)\n",
        "file.close()\n",
        "\n",
        "# for i in range(len(txt_list)):\n",
        "#   if txt_list[i] == '':\n",
        "#     txt_list[i] += ' '"
      ],
      "metadata": {
        "id": "dRROdpPq_e1B"
      },
      "execution_count": null,
      "outputs": []
    },
    {
      "cell_type": "code",
      "source": [
        "par_index = []\n",
        "for i in range(len(txt_list)):\n",
        "  if txt_list[i].endswith('물음에 답하시오.'):\n",
        "    par_index.append(i)"
      ],
      "metadata": {
        "id": "2Zg-clfrZrYA"
      },
      "execution_count": null,
      "outputs": []
    },
    {
      "cell_type": "code",
      "source": [
        "NUM = int(txt_list[par_index[len(par_index)-1]][6:8])\n",
        "print(NUM, type(NUM))"
      ],
      "metadata": {
        "id": "VGFClWSLU1_Y"
      },
      "execution_count": null,
      "outputs": []
    },
    {
      "cell_type": "code",
      "source": [
        "num_list = ['01', '02', '03', '04', '05', '06', '07', '08', '09']\n",
        "for i in range(10, NUM+2):\n",
        "  num_list.append(str(i))\n",
        "print(num_list)"
      ],
      "metadata": {
        "id": "xYvDNecQAbTZ"
      },
      "execution_count": null,
      "outputs": []
    },
    {
      "cell_type": "code",
      "source": [
        "number_index = []\n",
        "num_index = 0\n",
        "for i in range(len(txt_list)):\n",
        "  if txt_list[i].startswith(num_list[num_index]):\n",
        "    number_index.append(i)\n",
        "    # print(num_index)\n",
        "    num_index += 1\n",
        "number_index.append(len(txt_list))\n",
        "print(len(number_index), number_index)"
      ],
      "metadata": {
        "id": "LABKl1JTU0VI"
      },
      "execution_count": null,
      "outputs": []
    },
    {
      "cell_type": "code",
      "source": [
        "for i in range(len(number_index)-1):\n",
        "  print(i+1, txt_list[number_index[i]])"
      ],
      "metadata": {
        "id": "HPhVhaNSVX6Y"
      },
      "execution_count": null,
      "outputs": []
    },
    {
      "cell_type": "code",
      "source": [
        "for i in range(len(number_index)-1):\n",
        "  print(txt_list[number_index[i]][2:5])"
      ],
      "metadata": {
        "id": "lPmy0k2Uy-11"
      },
      "execution_count": null,
      "outputs": []
    },
    {
      "cell_type": "code",
      "source": [
        "blank = []\n",
        "for i in range(len(number_index)-1):\n",
        "  blank_index = number_index[i]\n",
        "  for j in range(number_index[i],number_index[i+1]):\n",
        "    if txt_list[j] == \"\":\n",
        "      # print(j, blank_index)\n",
        "      blank.append(j)\n",
        "      break\n",
        "\n",
        "print(len(blank), blank)"
      ],
      "metadata": {
        "id": "lUgDiZHRVaZP"
      },
      "execution_count": null,
      "outputs": []
    },
    {
      "cell_type": "code",
      "source": [
        "for i in range(len(blank)):\n",
        "  print(txt_list[number_index[i]])\n",
        "  print(txt_list[blank[i]])\n",
        "  print(txt_list[blank[i]+1])\n",
        "  print(\"\\n\")"
      ],
      "metadata": {
        "id": "ebVIVxu8Vn1N"
      },
      "execution_count": null,
      "outputs": []
    },
    {
      "cell_type": "code",
      "source": [
        "first_index = []\n",
        "second_index = []\n",
        "third_index = []\n",
        "fourth_index = []\n",
        "fifth_index = []\n",
        "for i in range(len(blank)):\n",
        "  first_index.append(blank[i]+1)\n",
        "  second_index.append(blank[i]+2)\n",
        "  third_index.append(blank[i]+3)\n",
        "  fourth_index.append(blank[i]+4)\n",
        "  fifth_index.append(blank[i]+5)\n",
        "print(len(first_index), first_index)\n",
        "print(len(second_index), second_index)\n",
        "print(len(third_index), third_index)\n",
        "print(len(fourth_index), fourth_index)\n",
        "print(len(fifth_index), fifth_index)"
      ],
      "metadata": {
        "id": "ka9URKt6VpxR"
      },
      "execution_count": null,
      "outputs": []
    },
    {
      "cell_type": "code",
      "source": [
        "for i in range(len(blank)):\n",
        "  print(txt_list[number_index[i]])\n",
        "  print(txt_list[first_index[i]])\n",
        "  print(txt_list[second_index[i]])\n",
        "  print(txt_list[third_index[i]])\n",
        "  print(txt_list[fourth_index[i]])\n",
        "  print(txt_list[fifth_index[i]])\n",
        "  print(txt_list[blank[i]])"
      ],
      "metadata": {
        "id": "Rn_og9LrV3HB"
      },
      "execution_count": null,
      "outputs": []
    },
    {
      "cell_type": "code",
      "source": [
        "for i in range(len(number_index)-1):\n",
        "  txt_list[number_index[i]] = txt_list[number_index[i]][4:]\n",
        "  # print(txt_list[number_index[i]])\n",
        "  # print(i+1, txt_list[number_index[i]][3:])"
      ],
      "metadata": {
        "id": "KrjmTJOjyFaE"
      },
      "execution_count": null,
      "outputs": []
    },
    {
      "cell_type": "code",
      "source": [
        "question = []\n",
        "for i in range(len(number_index)-1):\n",
        "  # for j in range(number_index[i], blank[i]):\n",
        "  #   print(txt_list[j])\n",
        "  question.append(txt_list[number_index[i]:blank[i]])\n",
        "print(len(question))"
      ],
      "metadata": {
        "id": "YXsI_IW8V6DL"
      },
      "execution_count": null,
      "outputs": []
    },
    {
      "cell_type": "code",
      "source": [
        "for i in range(len(question)):\n",
        "  question[i] = \"\\n\".join(question[i])\n",
        "  print(question[i])\n",
        "  print(\"\\n\")"
      ],
      "metadata": {
        "id": "ulPO7lMXYv_e"
      },
      "execution_count": null,
      "outputs": []
    },
    {
      "cell_type": "code",
      "source": [
        "first = []\n",
        "second = []\n",
        "third = []\n",
        "fourth = []\n",
        "fifth = []\n",
        "\n",
        "for i in range(len(blank)):\n",
        "  first.append(txt_list[first_index[i]])\n",
        "  second.append(txt_list[second_index[i]])\n",
        "  third.append(txt_list[third_index[i]])\n",
        "  fourth.append(txt_list[fourth_index[i]])\n",
        "  fifth.append(txt_list[fifth_index[i]])"
      ],
      "metadata": {
        "id": "t0qJh2rXY3Y7"
      },
      "execution_count": null,
      "outputs": []
    },
    {
      "cell_type": "code",
      "source": [
        "print(len(first), len(second), len(third), len(fourth))\n",
        "# for i in range(5):\n",
        "#   print(first[i])\n",
        "#   print(second[i])\n",
        "#   print(third[i])\n",
        "#   print(fourth[i])\n",
        "#   print(\"\\n\")"
      ],
      "metadata": {
        "id": "2SuKZcqQZhAW"
      },
      "execution_count": null,
      "outputs": []
    },
    {
      "cell_type": "code",
      "source": [
        "number = []\n",
        "for i in range(1, len(question)+1):\n",
        "  number.append(i)\n",
        "print(len(number), number)"
      ],
      "metadata": {
        "id": "psII4obwZjE4"
      },
      "execution_count": null,
      "outputs": []
    },
    {
      "cell_type": "code",
      "source": [
        "par_num = []\n",
        "for i in range(len(par_index)):\n",
        "  print(i, txt_list[par_index[i]])\n",
        "  par_num.append(int(txt_list[par_index[i]][1:3]))\n",
        "print(len(par_num))"
      ],
      "metadata": {
        "id": "29FYWYKbZt3e"
      },
      "execution_count": null,
      "outputs": []
    },
    {
      "cell_type": "code",
      "source": [
        "par_start_index = []\n",
        "par_end_index = []\n",
        "border = '-------------------------<지문>------------------------------'\n",
        "marker = 0\n",
        "for i in range(len(txt_list)):\n",
        "  if txt_list[i] == border:\n",
        "    if marker %2 == 0:\n",
        "      par_start_index.append(i)\n",
        "    else: par_end_index.append(i)\n",
        "    marker += 1\n",
        "print(len(par_start_index), par_start_index)\n",
        "print(len(par_end_index), par_end_index)"
      ],
      "metadata": {
        "id": "KhFS-KndbTzF"
      },
      "execution_count": null,
      "outputs": []
    },
    {
      "cell_type": "code",
      "source": [
        "par = []\n",
        "for i in range(len(question)):\n",
        "  par.append(\" \")\n",
        "\n",
        "for i in range(len(par_num)):\n",
        "  par[par_num[i]-1] = txt_list[par_start_index[i]+1:par_end_index[i]]\n",
        "\n",
        "for i in range(len(par)):\n",
        "  par[i] = \" \".join(par[i])"
      ],
      "metadata": {
        "id": "0_Kl6n1aaGbk"
      },
      "execution_count": null,
      "outputs": []
    },
    {
      "cell_type": "code",
      "source": [
        "for i in range(len(par)):\n",
        "  l = par[i]\n",
        "  for j in range(len(l)-2):\n",
        "    if l[j:j+2] == '//':\n",
        "      l = l[0:j] + '\\n' + l[j+2:]\n",
        "  par[i] = l "
      ],
      "metadata": {
        "id": "PDCvULApd68t"
      },
      "execution_count": null,
      "outputs": []
    },
    {
      "cell_type": "code",
      "source": [
        "print(len(par), len(question), len(first), len(second), len(third), len(fourth), len(fifth))"
      ],
      "metadata": {
        "id": "hOoDO3F3iShI"
      },
      "execution_count": null,
      "outputs": []
    },
    {
      "cell_type": "code",
      "source": [
        "# df = pd.DataFrame()\n",
        "data = ({'번호': number, '지문': par, '문제': question, '선지1' : first, '선지2' : second, '선지3' : third, '선지4' : fourth, '선지5' : fifth})\n",
        "df = pd.DataFrame(data)\n",
        "df.to_excel('leet_언어와이해_2022.xlsx', index=False)"
      ],
      "metadata": {
        "id": "cYUb5xmaidtM"
      },
      "execution_count": null,
      "outputs": []
    }
  ]
}