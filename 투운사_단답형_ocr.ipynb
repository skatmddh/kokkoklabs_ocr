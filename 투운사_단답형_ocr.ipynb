{
  "nbformat": 4,
  "nbformat_minor": 0,
  "metadata": {
    "colab": {
      "provenance": [],
      "include_colab_link": true
    },
    "kernelspec": {
      "name": "python3",
      "display_name": "Python 3"
    },
    "language_info": {
      "name": "python"
    }
  },
  "cells": [
    {
      "cell_type": "markdown",
      "metadata": {
        "id": "view-in-github",
        "colab_type": "text"
      },
      "source": [
        "<a href=\"https://colab.research.google.com/github/skatmddh/kokkoklabs_ocr/blob/main/%ED%88%AC%EC%9A%B4%EC%82%AC_%EB%8B%A8%EB%8B%B5%ED%98%95_ocr.ipynb\" target=\"_parent\"><img src=\"https://colab.research.google.com/assets/colab-badge.svg\" alt=\"Open In Colab\"/></a>"
      ]
    },
    {
      "cell_type": "code",
      "execution_count": null,
      "metadata": {
        "id": "gtiM4spw4Cmk"
      },
      "outputs": [],
      "source": [
        "import pandas as pd\n",
        "txt_list = []\n",
        "file = open('/content/단답형_13(7장누락본).txt', 'r')\n",
        "\n",
        "for line in file :\n",
        "  line = line.strip()\n",
        "  txt_list.append(line)\n",
        "file.close()\n",
        "\n",
        "# for i in range(len(txt_list)):\n",
        "#   if txt_list[i] == '':\n",
        "#     txt_list[i] += ' '\n"
      ]
    },
    {
      "cell_type": "code",
      "source": [
        "last = txt_list[-2] #last 정의\n",
        "for i in range(len(last)): #blank 정의 위해서\n",
        "  if last[i] == ' ':\n",
        "    blank = i #blank 정의\n",
        "    break\n",
        "print(last)\n",
        "# print(int(last[:blank]))"
      ],
      "metadata": {
        "id": "uWTZRB4BLRAD"
      },
      "execution_count": null,
      "outputs": []
    },
    {
      "cell_type": "code",
      "source": [
        "NUM = int(last[:blank])   #문제 갯수\n",
        "print(NUM)"
      ],
      "metadata": {
        "id": "No6NcjS2Bd85"
      },
      "execution_count": null,
      "outputs": []
    },
    {
      "cell_type": "code",
      "source": [
        "#for i in range(100):\n",
        "  #print(i, txt_list[i])"
      ],
      "metadata": {
        "id": "rOsJPzJd6CGP"
      },
      "execution_count": null,
      "outputs": []
    },
    {
      "cell_type": "code",
      "source": [
        "star_index = [] #별표 부분 구분해서 정의하기\n",
        "for i in range(len(txt_list)):\n",
        "  if txt_list[i] == '******':\n",
        "    star_index.append(i)\n",
        "print(len(star_index), star_index)"
      ],
      "metadata": {
        "id": "47cc8NPD4i75"
      },
      "execution_count": null,
      "outputs": []
    },
    {
      "cell_type": "code",
      "source": [
        "answer_list = [] #답안 부분 구분해서 정의하기\n",
        "for i in range(len(star_index)):\n",
        "  if i%2 == 0: #이거 무슨 뜻이야?\n",
        "    answer_list.append(txt_list[star_index[i]:star_index[i+1]+1])\n",
        "    print(txt_list[star_index[i]:star_index[i+1]+1]) #별표부터 별표까지 구간 각각 뽑아내기"
      ],
      "metadata": {
        "id": "AYpNLFWW5Aav"
      },
      "execution_count": null,
      "outputs": []
    },
    {
      "cell_type": "code",
      "source": [
        "for i in range(len(answer_list)):\n",
        "  txt_list = [x for x in txt_list if x not in answer_list[i]]\n",
        "  #txt_list에서 답안 빼기"
      ],
      "metadata": {
        "id": "tZfn_1xjANgk"
      },
      "execution_count": null,
      "outputs": []
    },
    {
      "cell_type": "code",
      "source": [
        "num_list = ['01', '02', '03', '04', '05', '06', '07', '08', '09'] #앞에 0붙여야돼서 이렇게 하는 거네\n",
        "for i in range(10, NUM+2):\n",
        "  num_list.append(str(i))\n",
        "print(num_list)\n",
        "#이건 string으로 변환"
      ],
      "metadata": {
        "id": "PpfKd5GW6hyN"
      },
      "execution_count": null,
      "outputs": []
    },
    {
      "cell_type": "code",
      "source": [
        "number_index = []\n",
        "num_index = 0 #------------------------------------->초기화\n",
        "for i in range(len(txt_list)):\n",
        "  if txt_list[i] == num_list[num_index]:\n",
        "    number_index.append(i)\n",
        "#print(num_index)\n",
        "    num_index += 1 #index 0부터 시작해서\n",
        "number_index.append(len(txt_list))\n",
        "print(len(number_index), number_index)"
      ],
      "metadata": {
        "id": "MBmYU_Mx7KvR"
      },
      "execution_count": null,
      "outputs": []
    },
    {
      "cell_type": "code",
      "source": [
        "question = []\n",
        "for i in range(len(number_index)-1):\n",
        "  question.append(\"\".join(txt_list[number_index[i]:number_index[i+1]][2:-1])) #[2:-1]은 01~. 까지 이어지는 문제에서 숫자 제거 마지막 칸 제거.\n",
        "\n",
        "for i in range(len(question)):\n",
        "  \n",
        "  print(question[i])"
      ],
      "metadata": {
        "id": "EsMoRDH68vPk"
      },
      "execution_count": null,
      "outputs": []
    },
    {
      "cell_type": "markdown",
      "source": [
        "number_index : 문제번호 있는 곳  => txt_list[number_index[i]]\n",
        "question : 질문 모아져있는곳"
      ],
      "metadata": {
        "id": "lOgSui3bCM3v"
      }
    },
    {
      "cell_type": "code",
      "source": [
        "for i in range(len(answer_list)):\n",
        "  print(answer_list[i])"
      ],
      "metadata": {
        "id": "O29JHRuYCXJP"
      },
      "execution_count": null,
      "outputs": []
    },
    {
      "cell_type": "code",
      "source": [
        "answer = []\n",
        "for i in range(len(answer_list)):\n",
        "  l = answer_list[i][1:-1]\n",
        "  # print(l)\n",
        "  for j in range(len(l)):\n",
        "    print(l[j])\n",
        "    # print(l[j][3:])\n",
        "    answer.append(l[j][3:]) #-------------------->\b슷자 빼고 문제만"
      ],
      "metadata": {
        "id": "hJfpuNVlCcNf"
      },
      "execution_count": null,
      "outputs": []
    },
    {
      "cell_type": "code",
      "source": [
        "number = []\n",
        "for i in range(1,len(question)+1):\n",
        "  number.append(i)\n",
        "print(len(number), number)"
      ],
      "metadata": {
        "id": "CXPcFqkODyej"
      },
      "execution_count": null,
      "outputs": []
    },
    {
      "cell_type": "code",
      "source": [
        "print(len(number), len(question), len(answer))\n"
      ],
      "metadata": {
        "id": "TX_5Zd83Cw7A"
      },
      "execution_count": null,
      "outputs": []
    },
    {
      "cell_type": "code",
      "source": [
        "# df = pd.DataFrame()\n",
        "data = ({'번호': number, '문제': question, '정답' : answer })\n",
        "df = pd.DataFrame(data)\n",
        "df.to_excel('투운사_단답형_13.xlsx', index=False)"
      ],
      "metadata": {
        "id": "C606kjUeDjUE"
      },
      "execution_count": null,
      "outputs": []
    }
  ]
}