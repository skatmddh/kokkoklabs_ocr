{
  "nbformat": 4,
  "nbformat_minor": 0,
  "metadata": {
    "colab": {
      "provenance": [],
      "authorship_tag": "ABX9TyNaUlRSuurA8zRt4kv8T0jz",
      "include_colab_link": true
    },
    "kernelspec": {
      "name": "python3",
      "display_name": "Python 3"
    },
    "language_info": {
      "name": "python"
    }
  },
  "cells": [
    {
      "cell_type": "markdown",
      "metadata": {
        "id": "view-in-github",
        "colab_type": "text"
      },
      "source": [
        "<a href=\"https://colab.research.google.com/github/skatmddh/kokkoklabs_ocr/blob/main/%ED%88%AC%EC%9A%B4%EC%82%AC_left_and_right_split.ipynb\" target=\"_parent\"><img src=\"https://colab.research.google.com/assets/colab-badge.svg\" alt=\"Open In Colab\"/></a>"
      ]
    },
    {
      "cell_type": "code",
      "source": [
        "from google.colab import drive\n",
        "drive.mount('/content/drive')"
      ],
      "metadata": {
        "id": "_mvD7ThWuTkk"
      },
      "execution_count": null,
      "outputs": []
    },
    {
      "cell_type": "code",
      "execution_count": null,
      "metadata": {
        "id": "7jUxMfXMpC9M"
      },
      "outputs": [],
      "source": [
        "!pip install pypdf2\n",
        "from PyPDF2 import PdfFileWriter,PdfFileReader,PdfFileMerger\n",
        "import os\n",
        "from glob import glob"
      ]
    },
    {
      "cell_type": "code",
      "source": [
        "def pdf_split(투운사기출문제,):\n",
        "    # Splitting Left Part\n",
        "\n",
        "    with open(r\"C:\\Users\\NickO\\Downloads\\file\", \"rb\") as in_f:\n",
        "        input1 = PdfFileReader(in_f)\n",
        "        output = PdfFileWriter()\n",
        "\n",
        "        numPages = input1.getNumPages()\n",
        "\n",
        "        for i in range(numPages):\n",
        "            page = input1.getPage(i)\n",
        "            # page.cropBox.lowerLeft = (60, 50)\n",
        "            # page.cropBox.upperRight = (305, 700)\n",
        "            x1,y1=page.cropBox.getUpperRight()\n",
        "            x2,y2=page.cropBox.getLowerLeft()\n",
        "            x=x1+(x2-x1)//2\n",
        "            page.cropBox.lowerLeft = (x,y1)\n",
        "            page.cropBox.upperRight = (x2, y2)\n",
        "            output.addPage(page)\n",
        "\n",
        "        with open(\"left.pdf\", \"wb\") as out_f:\n",
        "            output.write(out_f)\n",
        "            \n",
        "    # Splitting right part :\n",
        "\n",
        "    with open(r\"C:\\Users\\NickO\\Downloads\\filer\", \"rb\") as in_f:\n",
        "        input1 = PdfFileReader(in_f)\n",
        "        output = PdfFileWriter()\n",
        "\n",
        "        numPages = input1.getNumPages()\n",
        "\n",
        "        for i in range(numPages):\n",
        "            page = input1.getPage(i)\n",
        "            x1,y1=page.cropBox.getUpperRight()\n",
        "            x2,y2=page.cropBox.getLowerLeft()\n",
        "            page.cropBox.lowerLeft = (x1,y1)\n",
        "            page.cropBox.upperRight = (x, y2)\n",
        "            x=x1+(x2-x1)//2\n",
        "            output.addPage(page)\n",
        "\n",
        "        with open(\"right.pdf\", \"wb\") as out_f:\n",
        "            output.write(out_f)"
      ],
      "metadata": {
        "id": "Mo9fD8d9xGxq"
      },
      "execution_count": null,
      "outputs": []
    },
    {
      "cell_type": "code",
      "source": [
        "    # Combining left with right (two columns to two pages)\n",
        "\n",
        "    input1 = PdfFileReader(open(\"left.pdf\",\"rb\"))\n",
        "    input2 = PdfFileReader(open(\"right.pdf\",\"rb\"))\n",
        "    output = PdfFileWriter()\n",
        "    numPages = input1.getNumPages()\n",
        "\n",
        "    for i in range(numPages):\n",
        "        l = input1.getPage(i)\n",
        "        output.addPage(l)\n",
        "        r = input2.getPage(i)\n",
        "        output.addPage(r)\n",
        "    with open(r\"C:\\Users\\NickO\\Downloads\\filer\".replace('.pdf','_split.pdf'), \"wb\") as out_f:\n",
        "        output.write(out_f)"
      ],
      "metadata": {
        "id": "-iGIe-3pxQMB"
      },
      "execution_count": null,
      "outputs": []
    },
    {
      "cell_type": "code",
      "source": [
        "def excute_split(path):\n",
        "    for 투운사기출문제 in glob(path+\"*.pdf\"):\n",
        "        print(투운사기출문제)\n",
        "        try: pdf_split(투운사기출문제)\n",
        "        except Exception as e: print(e)\n",
        "\n",
        "def excute_split2(path, inclu=''):\n",
        "    import shutil\n",
        "    # 홀수번째만 split (question)\n",
        "    filelist=glob(path+\"*.pdf\")\n",
        "    if include!='': filelist=[i for i in filelist if inclu in i]\n",
        "    filelist=sorted(filelist, key=lambda x: int(os.path.splitext(x)[0].split('-')[-1]))\n",
        "    \n",
        "    for i in range(0,len(filelist)):\n",
        "        투운사기출문제=filelist[i]\n",
        "        if (i+1)%2!=0: # 홀수번째\n",
        "            newfilename = path+'q{}.pdf'.format((i+2)//2)\n",
        "            shutil.copyfile('/content/drive/MyDrive/ocr_cherry/pre_ocr/투운사기출문제_ocr.pdf',newfilename)\n",
        "            # os.rename(/content/drive/MyDrive/ocr_cherry/pre_ocr/투운사기출문제_ocr.pdf,path+'q{}.pdf'.format((i+2)//2))\n",
        "            try: pdf_split(newfilename)\n",
        "            except Exception as e: print(e)\n",
        "        else: # 짝수번째\n",
        "            shutil.copyfile('/content/drive/MyDrive/ocr_cherry/pre_ocr/투운사기출문제_ocr.pdf',path+'a{}.pdf'.format((i+2)//2))"
      ],
      "metadata": {
        "id": "5u17P7TgxTvg"
      },
      "execution_count": null,
      "outputs": []
    }
  ]
}