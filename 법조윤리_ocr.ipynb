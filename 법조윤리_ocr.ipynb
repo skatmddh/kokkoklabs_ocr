{
  "nbformat": 4,
  "nbformat_minor": 0,
  "metadata": {
    "colab": {
      "provenance": [],
      "collapsed_sections": [],
      "include_colab_link": true
    },
    "kernelspec": {
      "name": "python3",
      "display_name": "Python 3"
    },
    "language_info": {
      "name": "python"
    }
  },
  "cells": [
    {
      "cell_type": "markdown",
      "metadata": {
        "id": "view-in-github",
        "colab_type": "text"
      },
      "source": [
        "<a href=\"https://colab.research.google.com/github/skatmddh/kokkoklabs_ocr/blob/main/%EB%B2%95%EC%A1%B0%EC%9C%A4%EB%A6%AC_ocr.ipynb\" target=\"_parent\"><img src=\"https://colab.research.google.com/assets/colab-badge.svg\" alt=\"Open In Colab\"/></a>"
      ]
    },
    {
      "cell_type": "code",
      "source": [
        "import pandas as pd \n",
        "txt_list = []\n",
        "file = open('/content/5지선다_OCR_1.txt', 'r')\n",
        "for line in file :\n",
        "  line = line.strip()\n",
        "  txt_list.append(line)\n",
        "file.close()\n",
        "\n",
        "for i in range(len(txt_list)):\n",
        "  # txt_list[i] = txt_list[i].strip()\n",
        "  if txt_list[i] == '' :\n",
        "    txt_list[i] += ' '\n",
        "\n",
        "# for i in range(1000):\n",
        "#   print(i, txt_list[i])"
      ],
      "metadata": {
        "id": "xgjQ203NUAVA"
      },
      "execution_count": null,
      "outputs": []
    },
    {
      "cell_type": "code",
      "source": [
        "chapter_all = []\n",
        "chapter_index = []\n",
        "for word in txt_list:\n",
        "  if '  문 ' in word:\n",
        "    chapter_index.append(txt_list.index(word))\n",
        "# for i in [1147, 1262, 1291, 1585, 1791, 3920, 4218, 5389, 6250, 7728, 8082, 9658, 11099, 12571, 12608]:\n",
        "#   chapter_index.remove(i)\n",
        "\n",
        "print(len(chapter_index))\n",
        "for i in range(len(chapter_index)):\n",
        "  #print(i, chapter_index[i], txt_list[chapter_index[i]])\n",
        "  chapter_all.append(txt_list[chapter_index[i]])"
      ],
      "metadata": {
        "id": "c6YlcIP9XQt2"
      },
      "execution_count": null,
      "outputs": []
    },
    {
      "cell_type": "code",
      "source": [
        "for chap in chapter_all:\n",
        "  #print(chap)\n",
        "  blank_index = []\n",
        "  for i in range(len(chap)):\n",
        "    if chap[i] == ' ':\n",
        "      blank_index.append(i)\n",
        "  #print(blank_index)\n",
        "\n",
        "  first_blank = blank_index[0]\n",
        "  for i in range(1, len(blank_index)):\n",
        "    #print(i, blank_index[i], first_blank)\n",
        "    if (blank_index[i] - first_blank == 1) :\n",
        "      break\n",
        "    else : first_blank = blank_index[i]\n",
        "  #print(first_blank)\n",
        "\n",
        "  last_blank = blank_index[len(blank_index)-2]\n",
        "  for i in range(len(blank_index)-3, 1, -1):\n",
        "    #print(i, blank_index[i], last_blank)\n",
        "    if last_blank - blank_index[i] == 1 :\n",
        "      break\n",
        "    else : last_blank = blank_index[i]\n",
        "  #print(last_blank)\n",
        "  \n",
        "  chapter.append(chap[:first_blank])\n",
        "  small_chapter.append(chap[last_blank+1:])\n",
        "\n",
        "for i in range(len(chapter)):\n",
        "  chapter[i] = chapter[i].replace(\" \", \"\")\n",
        "for i in range(len(small_chapter)):\n",
        "  small_chapter[i] = small_chapter[i].replace(\" \", \"\")"
      ],
      "metadata": {
        "id": "vUrsUevNpgsE"
      },
      "execution_count": null,
      "outputs": []
    },
    {
      "cell_type": "code",
      "source": [
        "print(len(chapter_all), len(chapter), len(small_chapter))\n",
        "print(chapter)\n",
        "print(small_chapter)"
      ],
      "metadata": {
        "id": "1TR_kasrptyW"
      },
      "execution_count": null,
      "outputs": []
    },
    {
      "cell_type": "code",
      "source": [
        "question = []\n",
        "\n",
        "choice_first_index = []\n",
        "\n",
        "\n",
        "for i in range(len(chapter_index)):\n",
        "  question_start = chapter_index[i] + 2\n",
        "  question_end = question_start\n",
        "  #print(question_end+1)\n",
        "  if len(txt_list[question_end+1]) > 0 :\n",
        "    while txt_list[question_end+1][0] != '①':\n",
        "      question_end += 1\n",
        "    choice_first_index.append(question_end+1)\n",
        "\n",
        "  question.append(\"\\n\".join(txt_list[question_start:question_end]))\n",
        "  #question.append(''.join(s for s in txt_list[question_start:question_end]))\n",
        "print(len(question))\n",
        "print(len(choice_first_index))\n",
        "\n",
        "for i in range(5):\n",
        "  print(question[i])"
      ],
      "metadata": {
        "id": "cKDJcLsvsPRP"
      },
      "execution_count": null,
      "outputs": []
    },
    {
      "cell_type": "code",
      "source": [
        "num_list = [1, ... 100]\n",
        "num_indx = []\n",
        "for word in txt_list:\n",
        "  if word.startswith(\"/\\d/\"):\n",
        "    num_index.append(txt_list.index(word)])\n",
        "print(txt_list[num_index[i]])\n"
      ],
      "metadata": {
        "id": "YX015eZ0qqrN"
      },
      "execution_count": null,
      "outputs": []
    },
    {
      "cell_type": "code",
      "source": [
        "choice_second_index = []\n",
        "choice_third_index = []\n",
        "choice_fourth_index = []\n",
        "solution_index = []\n",
        "\n",
        "answer_list = ['①', '②', '③', '④', '정답 없음']\n",
        "answer_index = []\n",
        "\n",
        "index = 0\n",
        "for i in range(len(choice_first_index)):\n",
        "  index = choice_first_index[i]\n",
        "  while txt_list[index][0] != '②':\n",
        "    index += 1\n",
        "  choice_second_index.append(index)\n",
        "\n",
        "  index = choice_second_index[i]\n",
        "  while txt_list[index][0] != '③':\n",
        "    index += 1\n",
        "  choice_third_index.append(index)\n",
        "\n",
        "  index = choice_third_index[i]\n",
        "  while txt_list[index][0] != '④':\n",
        "    index += 1\n",
        "  choice_fourth_index.append(index)\n",
        "\n",
        "  #while txt_list[index] != '해설 및 정답' :\n",
        "  while '해설 및 ' not in txt_list[index]:\n",
        "    index += 1\n",
        "  solution_index.append(index) \n",
        "\n",
        "  while txt_list[index] not in answer_list:\n",
        "    index += 1\n",
        "  answer_index.append(index)\n",
        "\n",
        "\n",
        "print(len(choice_first_index), choice_first_index)\n",
        "print(len(choice_second_index), choice_second_index)\n",
        "print(len(choice_third_index), choice_third_index)\n",
        "print(len(choice_fourth_index), choice_fourth_index)\n",
        "print(len(solution_index), solution_index)\n",
        "print(len(answer_index), answer_index)\n",
        "\n",
        "# for i in range(5):\n",
        "#   print(txt_list[choice_first_index[i]:choice_second_index[i]])\n"
      ],
      "metadata": {
        "id": "IX4miion70xV"
      },
      "execution_count": null,
      "outputs": []
    },
    {
      "cell_type": "code",
      "source": [
        "for i in range(463):\n",
        "  if txt_list[choice_second_index[i]-1] != ' ' : \n",
        "    print(i, txt_list[choice_second_index[i]-10:choice_second_index[i]])"
      ],
      "metadata": {
        "id": "qtg8TuYoDwQF"
      },
      "execution_count": null,
      "outputs": []
    },
    {
      "cell_type": "code",
      "source": [
        "for i in range(5):\n",
        "  print(txt_list[choice_first_index[i]:choice_second_index[i]])\n",
        "  print(txt_list[choice_second_index[i]:choice_third_index[i]])\n",
        "  print(txt_list[choice_third_index[i]:choice_fourth_index[i]])\n",
        "  print(txt_list[choice_fourth_index[i]:solution_index[i]-1])\n",
        "  print(' ')"
      ],
      "metadata": {
        "id": "4sZsXqCPFNvy"
      },
      "execution_count": null,
      "outputs": []
    },
    {
      "cell_type": "code",
      "source": [
        "choice_1 = []\n",
        "choice_2 = []\n",
        "choice_3 = []\n",
        "choice_4 = []\n",
        "\n",
        "for i in range(len(choice_first_index)):\n",
        "  choice_1.append(''.join(s for s in txt_list[choice_first_index[i]:choice_second_index[i]]))\n",
        "  choice_2.append(''.join(s for s in txt_list[choice_second_index[i]:choice_third_index[i]]))\n",
        "  choice_3.append(''.join(s for s in txt_list[choice_third_index[i]:choice_fourth_index[i]]))\n",
        "  choice_4.append(''.join(s for s in txt_list[choice_fourth_index[i]:solution_index[i]-1]))\n",
        "\n",
        "for i in range(463):\n",
        "  if not choice_1[i].startswith('①'):\n",
        "    print(i, choice_1[i])\n",
        "  if not choice_2[i].startswith('②'):\n",
        "    print(i, choice_2[i]) \n",
        "  if not choice_3[i].startswith('③'):\n",
        "    print(i, choice_3[i])\n",
        "  if not choice_4[i].startswith('④'):\n",
        "    print(i, choice_4[i]) \n",
        "    \n",
        "print(len(choice_1), len(choice_2), len(choice_3), len(choice_4))"
      ],
      "metadata": {
        "id": "CUSfMkuHDjwa"
      },
      "execution_count": null,
      "outputs": []
    },
    {
      "cell_type": "code",
      "source": [
        "for i in range(len(solution_index)):\n",
        "  if txt_list[solution_index[i]+1] != ' ':\n",
        "    print(i, txt_list[solution_index[i]-20:solution_index[i]])\n",
        "  solution_index[i]+=2\n",
        "  \n",
        "for i in range(10):\n",
        "  print(txt_list[solution_index[i]])"
      ],
      "metadata": {
        "id": "rktUjzQjzlUb"
      },
      "execution_count": null,
      "outputs": []
    },
    {
      "cell_type": "code",
      "source": [
        "solution = []\n",
        "for i in range(len(solution_index)):\n",
        "  solution.append(\"\\n\".join(txt_list[solution_index[i]:answer_index[i]]))"
      ],
      "metadata": {
        "id": "b7yNL06udFdT"
      },
      "execution_count": null,
      "outputs": []
    },
    {
      "cell_type": "code",
      "source": [
        "answer = []\n",
        "for i in range(len(answer_index)):\n",
        "  #print(txt_list[answer_index[i]])\n",
        "  answer.append(txt_list[answer_index[i]])"
      ],
      "metadata": {
        "id": "88HhzbDlHuma"
      },
      "execution_count": null,
      "outputs": []
    },
    {
      "cell_type": "code",
      "source": [
        "print(len(chapter), len(small_chapter), len(question), len(choice_1), len(choice_2), len(choice_3), len(choice_4), len(solution), len(answer))"
      ],
      "metadata": {
        "id": "s-gCS7ApeyjH"
      },
      "execution_count": null,
      "outputs": []
    },
    {
      "cell_type": "code",
      "source": [
        "df = pd.DataFrame()\n",
        "all_data = ({'chapter': chapter, 'num' : small_chapter, 'question' : question, 'choice1' : choice_1, 'choice2' : choice_2, 'choice3' : choice_3, 'choice4' : choice_4, 'answer' : answer, 'solution' : solution})\n",
        "df = pd.DataFrame(all_data)\n",
        "df.to_excel('ethics.xlsx', index=False)\n",
        "#print(df)"
      ],
      "metadata": {
        "id": "_qj-9ml8fxFt"
      },
      "execution_count": null,
      "outputs": []
    }
  ]
}