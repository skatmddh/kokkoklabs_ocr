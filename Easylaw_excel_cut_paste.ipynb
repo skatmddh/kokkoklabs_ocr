{
  "cells": [
    {
      "cell_type": "markdown",
      "metadata": {
        "id": "view-in-github",
        "colab_type": "text"
      },
      "source": [
        "<a href=\"https://colab.research.google.com/github/skatmddh/kokkoklabs_ocr/blob/main/Easylaw_excel_cut_paste.ipynb\" target=\"_parent\"><img src=\"https://colab.research.google.com/assets/colab-badge.svg\" alt=\"Open In Colab\"/></a>"
      ]
    },
    {
      "cell_type": "code",
      "execution_count": null,
      "metadata": {
        "id": "PSCu5G5jegRj"
      },
      "outputs": [],
      "source": [
        "!pip install openpyxl"
      ]
    },
    {
      "cell_type": "code",
      "execution_count": null,
      "metadata": {
        "id": "0DEPXxrkU233"
      },
      "outputs": [],
      "source": [
        "from google.colab import drive\n",
        "drive.mount('/content/drive')"
      ]
    },
    {
      "cell_type": "code",
      "execution_count": null,
      "metadata": {
        "id": "CLrqTqqbAeVw"
      },
      "outputs": [],
      "source": [
        "import pandas as pd\n",
        "import os \n",
        "df = pd.read_excel('/content/drive/MyDrive/Easylaw_merge/Copy of (20220729) Easylaw 민법-가사 DB.xlsx', sheet_name='상법-회사법-유한회사', header=1, usecols='S')\n",
        "#dataframe = df.fillna(0)\n",
        "print(df)"
      ]
    },
    {
      "cell_type": "code",
      "execution_count": null,
      "metadata": {
        "id": "W_RaZU59va5F"
      },
      "outputs": [],
      "source": [
        "print(type(df))"
      ]
    },
    {
      "cell_type": "code",
      "execution_count": null,
      "metadata": {
        "id": "wvGmU9EZw2N_"
      },
      "outputs": [],
      "source": [
        "list_from_df = df.values.tolist()"
      ]
    },
    {
      "cell_type": "code",
      "execution_count": null,
      "metadata": {
        "id": "0tIo5C-bt-7m"
      },
      "outputs": [],
      "source": [
        "for i in range(len(df.values.tolist())):\n",
        "  print(i,df.values.tolist()[i])"
      ]
    },
    {
      "cell_type": "code",
      "execution_count": null,
      "metadata": {
        "id": "6KOEFIfwy74y"
      },
      "outputs": [],
      "source": [
        "print(type(df.values.tolist()[i]))"
      ]
    },
    {
      "cell_type": "code",
      "execution_count": null,
      "metadata": {
        "id": "5GcoXLNNe4cD"
      },
      "outputs": [],
      "source": [
        "#print(df.values.tolist()[0])\n",
        "#a = df.values.tolist()[0][0]\n",
        "#print(a)\n",
        "#strings = a.split('\\n')\n",
        "#print(strings)"
      ]
    },
    {
      "cell_type": "code",
      "source": [
        "#digit_string = str(dataframe.values.tolist()[137][0])\n",
        "#digit_map = map(int, digit_string)\n",
        "#digit_list = list(digit_map)\n",
        "#print(digit_list)"
      ],
      "metadata": {
        "id": "hRRUptnnYANj"
      },
      "execution_count": null,
      "outputs": []
    },
    {
      "cell_type": "code",
      "execution_count": null,
      "metadata": {
        "id": "FgIIl8Fxi2Dv"
      },
      "outputs": [],
      "source": [
        "title_list = ['Name']\n",
        "text_list = ['Name']\n",
        "for i in range(len(list_from_df)):\n",
        "  strings = list_from_df[i][0].split('\\n')\n",
        "  title = strings[0]\n",
        "  text = strings[1:]\n",
        "  title_list.append(title)\n",
        "  textfinal = \"\\n\".join(text)\n",
        "  text_list.append(textfinal)"
      ]
    },
    {
      "cell_type": "code",
      "execution_count": null,
      "metadata": {
        "id": "lW-iuxHsjukE"
      },
      "outputs": [],
      "source": [
        "for i in range(len(title_list)):\n",
        "  print(i,title_list[i])"
      ]
    },
    {
      "cell_type": "code",
      "execution_count": null,
      "metadata": {
        "id": "2fbyr1NwyoBa"
      },
      "outputs": [],
      "source": [
        "for i in range(len(text_list)):\n",
        "  print(i,text_list[i])"
      ]
    },
    {
      "cell_type": "code",
      "execution_count": null,
      "metadata": {
        "id": "XCm-9v1RzgdI"
      },
      "outputs": [],
      "source": [
        "print(len(title_list))"
      ]
    },
    {
      "cell_type": "code",
      "execution_count": null,
      "metadata": {
        "id": "I8dR22AhzjpM"
      },
      "outputs": [],
      "source": [
        "print(len(text_list))"
      ]
    },
    {
      "cell_type": "code",
      "source": [
        "new_df = pd.read_excel('/content/drive/MyDrive/Easylaw_merge/Copy of (20220729) Easylaw 민법-가사 DB.xlsx', sheet_name='상법-회사법-유한회사')"
      ],
      "metadata": {
        "id": "2y7HtiEk6ecD"
      },
      "execution_count": null,
      "outputs": []
    },
    {
      "cell_type": "code",
      "source": [
        "new_df.head()"
      ],
      "metadata": {
        "id": "aXnmaskE6-Du"
      },
      "execution_count": null,
      "outputs": []
    },
    {
      "cell_type": "code",
      "source": [
        "new_df['Unnamed: 18'] = title_list"
      ],
      "metadata": {
        "id": "BQvbfa2T7MH6"
      },
      "execution_count": null,
      "outputs": []
    },
    {
      "cell_type": "code",
      "source": [
        "new_df['Unnamed: 20'] = text_list"
      ],
      "metadata": {
        "id": "lVw5nzQP7bW_"
      },
      "execution_count": null,
      "outputs": []
    },
    {
      "cell_type": "code",
      "source": [
        "new_df.head()"
      ],
      "metadata": {
        "id": "cdvUQtSk8b0_"
      },
      "execution_count": null,
      "outputs": []
    },
    {
      "cell_type": "code",
      "source": [
        "new_df.to_excel('상법-회사법-유한회사.xlsx')"
      ],
      "metadata": {
        "id": "Ry06jHRw-WGb"
      },
      "execution_count": null,
      "outputs": []
    },
    {
      "cell_type": "markdown",
      "metadata": {
        "id": "oWL8BtZOaRGv"
      },
      "source": [
        "list from df는 []인데 list들을 원소로 갖고 있는 큰 list.\n",
        "각 list 들도 각각 문자열.\n",
        "\n",
        "print(list_from_df[0][0])\n",
        "print(list_from_df[1][0])\n",
        "print(list_from_df[2][0])\n",
        "\n",
        "for i in range(len(list_from_df()))\n",
        "  strings = list_from_df[i][0].split('\\n')\n",
        "  title = strings[0]\n",
        "  text = strings[1:]\n",
        "\n",
        "title_list = []\n",
        "for i in range(len(list_from_df()))\n",
        "  strings = list_from_df[i][0].split('\\n')\n",
        "  title = strings[0]\n",
        "  text = strings[1:]\n",
        "  title_list.append(title)\n",
        "  textfinal = \"\".join(text)\n",
        "  text_list.append(textfinal)\n",
        "\n"
      ]
    }
  ],
  "metadata": {
    "colab": {
      "collapsed_sections": [],
      "provenance": [],
      "include_colab_link": true
    },
    "kernelspec": {
      "display_name": "Python 3",
      "name": "python3"
    },
    "language_info": {
      "name": "python"
    }
  },
  "nbformat": 4,
  "nbformat_minor": 0
}