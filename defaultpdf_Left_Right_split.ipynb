{
  "nbformat": 4,
  "nbformat_minor": 0,
  "metadata": {
    "colab": {
      "provenance": [],
      "authorship_tag": "ABX9TyPyBsWJ/phslBogSy4fHYcZ",
      "include_colab_link": true
    },
    "kernelspec": {
      "name": "python3",
      "display_name": "Python 3"
    },
    "language_info": {
      "name": "python"
    }
  },
  "cells": [
    {
      "cell_type": "markdown",
      "metadata": {
        "id": "view-in-github",
        "colab_type": "text"
      },
      "source": [
        "<a href=\"https://colab.research.google.com/github/skatmddh/kokkoklabs_ocr/blob/main/pdf_Left_Right_split.ipynb\" target=\"_parent\"><img src=\"https://colab.research.google.com/assets/colab-badge.svg\" alt=\"Open In Colab\"/></a>"
      ]
    },
    {
      "cell_type": "code",
      "execution_count": null,
      "metadata": {
        "colab": {
          "base_uri": "https://localhost:8080/"
        },
        "id": "IfCdmjPIwfzx",
        "outputId": "ccb8029c-0b79-4806-884e-ba75c2584c47"
      },
      "outputs": [
        {
          "output_type": "stream",
          "name": "stdout",
          "text": [
            "Looking in indexes: https://pypi.org/simple, https://us-python.pkg.dev/colab-wheels/public/simple/\n",
            "Requirement already satisfied: bs4 in /usr/local/lib/python3.7/dist-packages (0.0.1)\n",
            "Requirement already satisfied: beautifulsoup4 in /usr/local/lib/python3.7/dist-packages (from bs4) (4.6.3)\n"
          ]
        }
      ],
      "source": [
        "!pip install pypdf2\n",
        "from PyPDF2 import PdfFileWriter,PdfFileReader,PdfFileMerger\n",
        "import os\n",
        "from glob import glob\n",
        "\n",
        "def pdf_split(filename,):\n",
        "    # Splitting Left Part\n",
        "\n",
        "    with open(filename, \"rb\") as in_f:\n",
        "        input1 = PdfFileReader(in_f)\n",
        "        output = PdfFileWriter()\n",
        "\n",
        "        numPages = input1.getNumPages()\n",
        "\n",
        "        for i in range(numPages):\n",
        "            page = input1.getPage(i)\n",
        "            # page.cropBox.lowerLeft = (60, 50)\n",
        "            # page.cropBox.upperRight = (305, 700)\n",
        "            x1,y1=page.cropBox.getUpperRight()\n",
        "            x2,y2=page.cropBox.getLowerLeft()\n",
        "            x=x1+(x2-x1)//2\n",
        "            page.cropBox.lowerLeft = (x,y1)\n",
        "            page.cropBox.upperRight = (x2, y2)\n",
        "            output.addPage(page)\n",
        "\n",
        "        with open(\"left.pdf\", \"wb\") as out_f:\n",
        "            output.write(out_f)\n",
        "            \n",
        "    # Splitting right part :\n",
        "\n",
        "    with open(filename, \"rb\") as in_f:\n",
        "        input1 = PdfFileReader(in_f)\n",
        "        output = PdfFileWriter()\n",
        "\n",
        "        numPages = input1.getNumPages()\n",
        "\n",
        "        for i in range(numPages):\n",
        "            page = input1.getPage(i)\n",
        "            x1,y1=page.cropBox.getUpperRight()\n",
        "            x2,y2=page.cropBox.getLowerLeft()\n",
        "            page.cropBox.lowerLeft = (x1,y1)\n",
        "            page.cropBox.upperRight = (x, y2)\n",
        "            x=x1+(x2-x1)//2\n",
        "            output.addPage(page)\n",
        "\n",
        "        with open(\"right.pdf\", \"wb\") as out_f:\n",
        "            output.write(out_f)\n",
        "\n",
        "    # Combining left with right (two columns to two pages)\n",
        "\n",
        "    input1 = PdfFileReader(open(\"left.pdf\",\"rb\"))\n",
        "    input2 = PdfFileReader(open(\"right.pdf\",\"rb\"))\n",
        "    output = PdfFileWriter()\n",
        "    numPages = input1.getNumPages()\n",
        "\n",
        "    for i in range(numPages):\n",
        "        l = input1.getPage(i)\n",
        "        output.addPage(l)\n",
        "        r = input2.getPage(i)\n",
        "        output.addPage(r)\n",
        "    with open(filename.replace('.pdf','_split.pdf'), \"wb\") as out_f:\n",
        "        output.write(out_f)\n",
        "\n",
        "def excute_split(path):\n",
        "    for filename in glob(path+\"*.pdf\"):\n",
        "        print(filename)\n",
        "        try: pdf_split(filename)\n",
        "        except Exception as e: print(e)\n",
        "\n",
        "def excute_split2(path, inclu=''):\n",
        "    import shutil\n",
        "    # 홀수번째만 split (question)\n",
        "    filelist=glob(path+\"*.pdf\")\n",
        "    if include!='': filelist=[i for i in filelist if inclu in i]\n",
        "    filelist=sorted(filelist, key=lambda x: int(os.path.splitext(x)[0].split('-')[-1]))\n",
        "    \n",
        "    for i in range(0,len(filelist)):\n",
        "        filename=filelist[i]\n",
        "        if (i+1)%2!=0: # 홀수번째\n",
        "            newfilename = path+'q{}.pdf'.format((i+2)//2)\n",
        "            shutil.copyfile(filename,newfilename)\n",
        "            # os.rename(filename,path+'q{}.pdf'.format((i+2)//2))\n",
        "            try: pdf_split(newfilename)\n",
        "            except Exception as e: print(e)\n",
        "        else: # 짝수번째\n",
        "            shutil.copyfile(filename,path+'a{}.pdf'.format((i+2)//2))"
      ]
    }
  ]
}
